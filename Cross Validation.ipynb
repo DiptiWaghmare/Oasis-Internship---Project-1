{
 "cells": [
  {
   "cell_type": "markdown",
   "id": "a5ff2e82",
   "metadata": {},
   "source": [
    "# Cross Validation"
   ]
  },
  {
   "cell_type": "code",
   "execution_count": 29,
   "id": "acc85104",
   "metadata": {},
   "outputs": [],
   "source": [
    "#importing necessary libraries\n",
    "import numpy as np\n",
    "import pandas as pd\n",
    "import seaborn as sns\n",
    "import matplotlib.pyplot as plt\n",
    "from sklearn.model_selection import cross_val_score , KFold ,cross_val_predict\n",
    "from sklearn.neighbors import KNeighborsClassifier\n",
    "from sklearn.datasets import load_iris\n",
    "from sklearn.metrics import precision_score, recall_score, f1_score"
   ]
  },
  {
   "cell_type": "code",
   "execution_count": 3,
   "id": "a62a98d9",
   "metadata": {},
   "outputs": [],
   "source": [
    "#Loading the iris data from sklearn.datasets\n",
    "iris = load_iris()\n",
    "x=iris.data\n",
    "y=iris.target"
   ]
  },
  {
   "cell_type": "code",
   "execution_count": 7,
   "id": "6c1f1132",
   "metadata": {},
   "outputs": [],
   "source": [
    "# Creating a K-Nearest Neighbors (KNN) classifier with 3 neighbors\n",
    "model=KNeighborsClassifier(n_neighbors=3)"
   ]
  },
  {
   "cell_type": "code",
   "execution_count": 8,
   "id": "51ec50cf",
   "metadata": {},
   "outputs": [],
   "source": [
    "# Number of folds for cross-validation\n",
    "k_folds = 5"
   ]
  },
  {
   "cell_type": "code",
   "execution_count": 9,
   "id": "60711294",
   "metadata": {},
   "outputs": [],
   "source": [
    "# Creating a KFold object for 5-fold cross-validation\n",
    "kf = KFold(n_splits=k_folds, shuffle=True, random_state=42)"
   ]
  },
  {
   "cell_type": "code",
   "execution_count": 10,
   "id": "3f68d898",
   "metadata": {},
   "outputs": [],
   "source": [
    "# Performing cross-validation and obtaining accuracy scores\n",
    "scores = cross_val_score(model,x,y,cv=kf,scoring='accuracy')"
   ]
  },
  {
   "cell_type": "code",
   "execution_count": 11,
   "id": "3c041216",
   "metadata": {},
   "outputs": [
    {
     "name": "stdout",
     "output_type": "stream",
     "text": [
      "Cross-Validation Scores: [1.         0.96666667 0.96666667 0.93333333 0.96666667]\n",
      "Mean Accuracy: 0.9666666666666668\n",
      "Standard Deviation of Accuracy: 0.02108185106778919\n"
     ]
    }
   ],
   "source": [
    "# Printing Cross-Validation Scores\n",
    "print(\"Cross-Validation Scores:\", scores)\n",
    "\n",
    "# Calculating and printing Mean Accuracy\n",
    "print(\"Mean Accuracy:\", np.mean(scores))\n",
    "\n",
    "# Calculating and printing Standard Deviation of Accuracy\n",
    "print(\"Standard Deviation of Accuracy:\", np.std(scores))\n"
   ]
  },
  {
   "cell_type": "markdown",
   "id": "ec579885",
   "metadata": {},
   "source": [
    "Interpretation:\n",
    "\n",
    "The mean accuracy of approximately 96.67% indicates that, on average, the model performs well across different subsets of the data.\n",
    "\n",
    "The small standard deviation of approximately 0.0211 suggests that the model's performance is consistent across the folds"
   ]
  },
  {
   "cell_type": "code",
   "execution_count": 15,
   "id": "032beca1",
   "metadata": {},
   "outputs": [],
   "source": [
    "# Obtaining cross-validated predictions\n",
    "ypred= cross_val_predict(model,x,y,cv=kf)"
   ]
  },
  {
   "cell_type": "code",
   "execution_count": 16,
   "id": "d7bbcadc",
   "metadata": {},
   "outputs": [
    {
     "data": {
      "text/plain": [
       "array([0, 0, 0, 0, 0, 0, 0, 0, 0, 0, 0, 0, 0, 0, 0, 0, 0, 0, 0, 0, 0, 0,\n",
       "       0, 0, 0, 0, 0, 0, 0, 0, 0, 0, 0, 0, 0, 0, 0, 0, 0, 0, 0, 0, 0, 0,\n",
       "       0, 0, 0, 0, 0, 0, 1, 1, 1, 1, 1, 1, 1, 1, 1, 1, 1, 1, 1, 1, 1, 1,\n",
       "       1, 1, 1, 1, 2, 1, 2, 1, 1, 1, 1, 1, 1, 1, 1, 1, 1, 2, 1, 1, 1, 1,\n",
       "       1, 1, 1, 1, 1, 1, 1, 1, 1, 1, 1, 1, 2, 2, 2, 2, 2, 2, 1, 2, 2, 2,\n",
       "       2, 2, 2, 2, 2, 2, 2, 2, 2, 2, 2, 2, 2, 2, 2, 2, 2, 2, 2, 2, 2, 2,\n",
       "       2, 1, 2, 2, 2, 2, 2, 2, 2, 2, 2, 2, 2, 2, 2, 2, 2, 2])"
      ]
     },
     "execution_count": 16,
     "metadata": {},
     "output_type": "execute_result"
    }
   ],
   "source": [
    "ypred"
   ]
  },
  {
   "cell_type": "code",
   "execution_count": 18,
   "id": "c538688e",
   "metadata": {},
   "outputs": [],
   "source": [
    "# Calculating Weighted Precision\n",
    "precision = precision_score(y,ypred,average='weighted')\n",
    "\n",
    "# Calculating Weighted Recall\n",
    "recall = recall_score(y,ypred,average='weighted')\n",
    "\n",
    "# Calculating Weighted F1-score\n",
    "f1 = f1_score(y,ypred,average='weighted')"
   ]
  },
  {
   "cell_type": "code",
   "execution_count": 19,
   "id": "7aa6a27c",
   "metadata": {},
   "outputs": [
    {
     "name": "stdout",
     "output_type": "stream",
     "text": [
      "Precision: 0.9667867146858743\n",
      "Recall: 0.9666666666666667\n",
      "F1 Score: 0.9666633329999667\n"
     ]
    }
   ],
   "source": [
    "print(\"Precision:\", precision)\n",
    "print(\"Recall:\", recall)\n",
    "print(\"F1 Score:\", f1)"
   ]
  },
  {
   "cell_type": "code",
   "execution_count": 20,
   "id": "d703cf0a",
   "metadata": {},
   "outputs": [],
   "source": [
    "# Importing necessary functions for model evaluation\n",
    "from sklearn.metrics import confusion_matrix , classification_report"
   ]
  },
  {
   "cell_type": "code",
   "execution_count": 25,
   "id": "aef557b5",
   "metadata": {},
   "outputs": [],
   "source": [
    "# Generating the confusion matrix for the model's predictions on the entire dataset\n",
    "conf_matrix = confusion_matrix(y,ypred)\n",
    "\n",
    "# Generating a classification report for the model's predictions on the entire dataset\n",
    "classification = classification_report (y,ypred)"
   ]
  },
  {
   "cell_type": "code",
   "execution_count": 26,
   "id": "ae8cffc4",
   "metadata": {},
   "outputs": [
    {
     "name": "stdout",
     "output_type": "stream",
     "text": [
      "Confusion Matrix:\n",
      " [[50  0  0]\n",
      " [ 0 47  3]\n",
      " [ 0  2 48]]\n",
      "Classification Report:\n",
      "               precision    recall  f1-score   support\n",
      "\n",
      "           0       1.00      1.00      1.00        50\n",
      "           1       0.96      0.94      0.95        50\n",
      "           2       0.94      0.96      0.95        50\n",
      "\n",
      "    accuracy                           0.97       150\n",
      "   macro avg       0.97      0.97      0.97       150\n",
      "weighted avg       0.97      0.97      0.97       150\n",
      "\n"
     ]
    }
   ],
   "source": [
    "print(\"Confusion Matrix:\\n\", conf_matrix)\n",
    "print(\"Classification Report:\\n\", classification)"
   ]
  },
  {
   "cell_type": "code",
   "execution_count": 31,
   "id": "5ded0de5",
   "metadata": {},
   "outputs": [
    {
     "data": {
      "image/png": "[encoded data removed]",
      "text/plain": [
       "<Figure size 300x300 with 2 Axes>"
      ]
     },
     "metadata": {},
     "output_type": "display_data"
    }
   ],
   "source": [
    "# Plotting the Confusion Matrix using seaborn and matplotlib\n",
    "plt.figure(figsize=(3,3))\n",
    "sns.heatmap(conf_matrix, annot=True, fmt='d', cmap='Blues', xticklabels=iris.target_names, yticklabels=iris.target_names)\n",
    "plt.xlabel('Predicted Label')\n",
    "plt.ylabel('True Label')\n",
    "plt.title('Confusion Matrix')\n",
    "plt.show()"
   ]
  },
  {
   "cell_type": "code",
   "execution_count": null,
   "id": "348f0812",
   "metadata": {},
   "outputs": [],
   "source": []
  }
 ],
 "metadata": {
  "kernelspec": {
   "display_name": "Python 3 (ipykernel)",
   "language": "python",
   "name": "python3"
  },
  "language_info": {
   "codemirror_mode": {
    "name": "ipython",
    "version": 3
   },
   "file_extension": ".py",
   "mimetype": "text/x-python",
   "name": "python",
   "nbconvert_exporter": "python",
   "pygments_lexer": "ipython3",
   "version": "3.11.5"
  }
 },
 "nbformat": 4,
 "nbformat_minor": 5
}
